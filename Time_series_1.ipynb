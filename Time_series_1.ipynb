{
  "nbformat": 4,
  "nbformat_minor": 0,
  "metadata": {
    "colab": {
      "name": "Time_series_1.ipynb",
      "provenance": [],
      "authorship_tag": "ABX9TyNm/ozpD7mHw231JDOEpEJ0",
      "include_colab_link": true
    },
    "kernelspec": {
      "name": "python3",
      "display_name": "Python 3"
    },
    "language_info": {
      "name": "python"
    }
  },
  "cells": [
    {
      "cell_type": "markdown",
      "metadata": {
        "id": "view-in-github",
        "colab_type": "text"
      },
      "source": [
        "<a href=\"https://colab.research.google.com/github/UtkarshAIITB/Time-Series-Analysis/blob/main/Time_series_1.ipynb\" target=\"_parent\"><img src=\"https://colab.research.google.com/assets/colab-badge.svg\" alt=\"Open In Colab\"/></a>"
      ]
    },
    {
      "cell_type": "code",
      "execution_count": 1,
      "metadata": {
        "colab": {
          "base_uri": "https://localhost:8080/"
        },
        "id": "H5TACLpGSWkV",
        "outputId": "7a025efe-8095-4a61-ed6e-ccdd0ba4ed94"
      },
      "outputs": [
        {
          "output_type": "stream",
          "name": "stdout",
          "text": [
            "Looking in indexes: https://pypi.org/simple, https://us-python.pkg.dev/colab-wheels/public/simple/\n",
            "Requirement already satisfied: pandas-datareader in /usr/local/lib/python3.7/dist-packages (0.10.0)\n",
            "Requirement already satisfied: requests>=2.19.0 in /usr/local/lib/python3.7/dist-packages (from pandas-datareader) (2.23.0)\n",
            "Requirement already satisfied: pandas>=0.23 in /usr/local/lib/python3.7/dist-packages (from pandas-datareader) (1.3.5)\n",
            "Requirement already satisfied: lxml in /usr/local/lib/python3.7/dist-packages (from pandas-datareader) (4.2.6)\n",
            "Requirement already satisfied: python-dateutil>=2.7.3 in /usr/local/lib/python3.7/dist-packages (from pandas>=0.23->pandas-datareader) (2.8.2)\n",
            "Requirement already satisfied: numpy>=1.17.3 in /usr/local/lib/python3.7/dist-packages (from pandas>=0.23->pandas-datareader) (1.21.6)\n",
            "Requirement already satisfied: pytz>=2017.3 in /usr/local/lib/python3.7/dist-packages (from pandas>=0.23->pandas-datareader) (2022.1)\n",
            "Requirement already satisfied: six>=1.5 in /usr/local/lib/python3.7/dist-packages (from python-dateutil>=2.7.3->pandas>=0.23->pandas-datareader) (1.15.0)\n",
            "Requirement already satisfied: urllib3!=1.25.0,!=1.25.1,<1.26,>=1.21.1 in /usr/local/lib/python3.7/dist-packages (from requests>=2.19.0->pandas-datareader) (1.24.3)\n",
            "Requirement already satisfied: chardet<4,>=3.0.2 in /usr/local/lib/python3.7/dist-packages (from requests>=2.19.0->pandas-datareader) (3.0.4)\n",
            "Requirement already satisfied: certifi>=2017.4.17 in /usr/local/lib/python3.7/dist-packages (from requests>=2.19.0->pandas-datareader) (2022.6.15)\n",
            "Requirement already satisfied: idna<3,>=2.5 in /usr/local/lib/python3.7/dist-packages (from requests>=2.19.0->pandas-datareader) (2.10)\n"
          ]
        }
      ],
      "source": [
        "!pip install pandas-datareader"
      ]
    },
    {
      "cell_type": "code",
      "source": [
        "!pip install --upgrade pandas-datareader"
      ],
      "metadata": {
        "colab": {
          "base_uri": "https://localhost:8080/"
        },
        "id": "NGW1LQ2GTC2K",
        "outputId": "f45fad49-b791-4416-e702-4e8480635da3"
      },
      "execution_count": 2,
      "outputs": [
        {
          "output_type": "stream",
          "name": "stdout",
          "text": [
            "Looking in indexes: https://pypi.org/simple, https://us-python.pkg.dev/colab-wheels/public/simple/\n",
            "Requirement already satisfied: pandas-datareader in /usr/local/lib/python3.7/dist-packages (0.10.0)\n",
            "Requirement already satisfied: pandas>=0.23 in /usr/local/lib/python3.7/dist-packages (from pandas-datareader) (1.3.5)\n",
            "Requirement already satisfied: requests>=2.19.0 in /usr/local/lib/python3.7/dist-packages (from pandas-datareader) (2.23.0)\n",
            "Requirement already satisfied: lxml in /usr/local/lib/python3.7/dist-packages (from pandas-datareader) (4.2.6)\n",
            "Requirement already satisfied: python-dateutil>=2.7.3 in /usr/local/lib/python3.7/dist-packages (from pandas>=0.23->pandas-datareader) (2.8.2)\n",
            "Requirement already satisfied: pytz>=2017.3 in /usr/local/lib/python3.7/dist-packages (from pandas>=0.23->pandas-datareader) (2022.1)\n",
            "Requirement already satisfied: numpy>=1.17.3 in /usr/local/lib/python3.7/dist-packages (from pandas>=0.23->pandas-datareader) (1.21.6)\n",
            "Requirement already satisfied: six>=1.5 in /usr/local/lib/python3.7/dist-packages (from python-dateutil>=2.7.3->pandas>=0.23->pandas-datareader) (1.15.0)\n",
            "Requirement already satisfied: chardet<4,>=3.0.2 in /usr/local/lib/python3.7/dist-packages (from requests>=2.19.0->pandas-datareader) (3.0.4)\n",
            "Requirement already satisfied: urllib3!=1.25.0,!=1.25.1,<1.26,>=1.21.1 in /usr/local/lib/python3.7/dist-packages (from requests>=2.19.0->pandas-datareader) (1.24.3)\n",
            "Requirement already satisfied: certifi>=2017.4.17 in /usr/local/lib/python3.7/dist-packages (from requests>=2.19.0->pandas-datareader) (2022.6.15)\n",
            "Requirement already satisfied: idna<3,>=2.5 in /usr/local/lib/python3.7/dist-packages (from requests>=2.19.0->pandas-datareader) (2.10)\n"
          ]
        }
      ]
    },
    {
      "cell_type": "code",
      "source": [
        "import pandas_datareader as pdr\n",
        "import pandas as pd\n",
        "from datetime import datetime"
      ],
      "metadata": {
        "id": "d6rIeEyRSaUQ"
      },
      "execution_count": 3,
      "outputs": []
    },
    {
      "cell_type": "code",
      "source": [
        "df_tesla=pdr.get_data_yahoo('TSLA')"
      ],
      "metadata": {
        "id": "Wk7otk5SSaW9"
      },
      "execution_count": 4,
      "outputs": []
    },
    {
      "cell_type": "code",
      "source": [
        "df_tesla.tail()"
      ],
      "metadata": {
        "colab": {
          "base_uri": "https://localhost:8080/",
          "height": 238
        },
        "id": "jUz9L7-7SaZn",
        "outputId": "50a00cf9-672e-4f64-8702-11a5002eeb19"
      },
      "execution_count": 5,
      "outputs": [
        {
          "output_type": "execute_result",
          "data": {
            "text/plain": [
              "                  High         Low        Open       Close      Volume  \\\n",
              "Date                                                                     \n",
              "2022-07-06  703.690002  681.559998  692.340027  695.200012  23951200.0   \n",
              "2022-07-07  736.090027  696.630005  701.760010  733.630005  27310200.0   \n",
              "2022-07-08  764.940002  723.479980  727.000000  752.289978  33343700.0   \n",
              "2022-07-11  759.190002  700.880005  756.309998  703.030029  33080400.0   \n",
              "2022-07-12  719.320007  685.109985  710.539978  699.210022  29251100.0   \n",
              "\n",
              "             Adj Close  \n",
              "Date                    \n",
              "2022-07-06  695.200012  \n",
              "2022-07-07  733.630005  \n",
              "2022-07-08  752.289978  \n",
              "2022-07-11  703.030029  \n",
              "2022-07-12  699.210022  "
            ],
            "text/html": [
              "\n",
              "  <div id=\"df-79f292a9-60f5-4efc-a2d7-17dfe18b2b45\">\n",
              "    <div class=\"colab-df-container\">\n",
              "      <div>\n",
              "<style scoped>\n",
              "    .dataframe tbody tr th:only-of-type {\n",
              "        vertical-align: middle;\n",
              "    }\n",
              "\n",
              "    .dataframe tbody tr th {\n",
              "        vertical-align: top;\n",
              "    }\n",
              "\n",
              "    .dataframe thead th {\n",
              "        text-align: right;\n",
              "    }\n",
              "</style>\n",
              "<table border=\"1\" class=\"dataframe\">\n",
              "  <thead>\n",
              "    <tr style=\"text-align: right;\">\n",
              "      <th></th>\n",
              "      <th>High</th>\n",
              "      <th>Low</th>\n",
              "      <th>Open</th>\n",
              "      <th>Close</th>\n",
              "      <th>Volume</th>\n",
              "      <th>Adj Close</th>\n",
              "    </tr>\n",
              "    <tr>\n",
              "      <th>Date</th>\n",
              "      <th></th>\n",
              "      <th></th>\n",
              "      <th></th>\n",
              "      <th></th>\n",
              "      <th></th>\n",
              "      <th></th>\n",
              "    </tr>\n",
              "  </thead>\n",
              "  <tbody>\n",
              "    <tr>\n",
              "      <th>2022-07-06</th>\n",
              "      <td>703.690002</td>\n",
              "      <td>681.559998</td>\n",
              "      <td>692.340027</td>\n",
              "      <td>695.200012</td>\n",
              "      <td>23951200.0</td>\n",
              "      <td>695.200012</td>\n",
              "    </tr>\n",
              "    <tr>\n",
              "      <th>2022-07-07</th>\n",
              "      <td>736.090027</td>\n",
              "      <td>696.630005</td>\n",
              "      <td>701.760010</td>\n",
              "      <td>733.630005</td>\n",
              "      <td>27310200.0</td>\n",
              "      <td>733.630005</td>\n",
              "    </tr>\n",
              "    <tr>\n",
              "      <th>2022-07-08</th>\n",
              "      <td>764.940002</td>\n",
              "      <td>723.479980</td>\n",
              "      <td>727.000000</td>\n",
              "      <td>752.289978</td>\n",
              "      <td>33343700.0</td>\n",
              "      <td>752.289978</td>\n",
              "    </tr>\n",
              "    <tr>\n",
              "      <th>2022-07-11</th>\n",
              "      <td>759.190002</td>\n",
              "      <td>700.880005</td>\n",
              "      <td>756.309998</td>\n",
              "      <td>703.030029</td>\n",
              "      <td>33080400.0</td>\n",
              "      <td>703.030029</td>\n",
              "    </tr>\n",
              "    <tr>\n",
              "      <th>2022-07-12</th>\n",
              "      <td>719.320007</td>\n",
              "      <td>685.109985</td>\n",
              "      <td>710.539978</td>\n",
              "      <td>699.210022</td>\n",
              "      <td>29251100.0</td>\n",
              "      <td>699.210022</td>\n",
              "    </tr>\n",
              "  </tbody>\n",
              "</table>\n",
              "</div>\n",
              "      <button class=\"colab-df-convert\" onclick=\"convertToInteractive('df-79f292a9-60f5-4efc-a2d7-17dfe18b2b45')\"\n",
              "              title=\"Convert this dataframe to an interactive table.\"\n",
              "              style=\"display:none;\">\n",
              "        \n",
              "  <svg xmlns=\"http://www.w3.org/2000/svg\" height=\"24px\"viewBox=\"0 0 24 24\"\n",
              "       width=\"24px\">\n",
              "    <path d=\"M0 0h24v24H0V0z\" fill=\"none\"/>\n",
              "    <path d=\"M18.56 5.44l.94 2.06.94-2.06 2.06-.94-2.06-.94-.94-2.06-.94 2.06-2.06.94zm-11 1L8.5 8.5l.94-2.06 2.06-.94-2.06-.94L8.5 2.5l-.94 2.06-2.06.94zm10 10l.94 2.06.94-2.06 2.06-.94-2.06-.94-.94-2.06-.94 2.06-2.06.94z\"/><path d=\"M17.41 7.96l-1.37-1.37c-.4-.4-.92-.59-1.43-.59-.52 0-1.04.2-1.43.59L10.3 9.45l-7.72 7.72c-.78.78-.78 2.05 0 2.83L4 21.41c.39.39.9.59 1.41.59.51 0 1.02-.2 1.41-.59l7.78-7.78 2.81-2.81c.8-.78.8-2.07 0-2.86zM5.41 20L4 18.59l7.72-7.72 1.47 1.35L5.41 20z\"/>\n",
              "  </svg>\n",
              "      </button>\n",
              "      \n",
              "  <style>\n",
              "    .colab-df-container {\n",
              "      display:flex;\n",
              "      flex-wrap:wrap;\n",
              "      gap: 12px;\n",
              "    }\n",
              "\n",
              "    .colab-df-convert {\n",
              "      background-color: #E8F0FE;\n",
              "      border: none;\n",
              "      border-radius: 50%;\n",
              "      cursor: pointer;\n",
              "      display: none;\n",
              "      fill: #1967D2;\n",
              "      height: 32px;\n",
              "      padding: 0 0 0 0;\n",
              "      width: 32px;\n",
              "    }\n",
              "\n",
              "    .colab-df-convert:hover {\n",
              "      background-color: #E2EBFA;\n",
              "      box-shadow: 0px 1px 2px rgba(60, 64, 67, 0.3), 0px 1px 3px 1px rgba(60, 64, 67, 0.15);\n",
              "      fill: #174EA6;\n",
              "    }\n",
              "\n",
              "    [theme=dark] .colab-df-convert {\n",
              "      background-color: #3B4455;\n",
              "      fill: #D2E3FC;\n",
              "    }\n",
              "\n",
              "    [theme=dark] .colab-df-convert:hover {\n",
              "      background-color: #434B5C;\n",
              "      box-shadow: 0px 1px 3px 1px rgba(0, 0, 0, 0.15);\n",
              "      filter: drop-shadow(0px 1px 2px rgba(0, 0, 0, 0.3));\n",
              "      fill: #FFFFFF;\n",
              "    }\n",
              "  </style>\n",
              "\n",
              "      <script>\n",
              "        const buttonEl =\n",
              "          document.querySelector('#df-79f292a9-60f5-4efc-a2d7-17dfe18b2b45 button.colab-df-convert');\n",
              "        buttonEl.style.display =\n",
              "          google.colab.kernel.accessAllowed ? 'block' : 'none';\n",
              "\n",
              "        async function convertToInteractive(key) {\n",
              "          const element = document.querySelector('#df-79f292a9-60f5-4efc-a2d7-17dfe18b2b45');\n",
              "          const dataTable =\n",
              "            await google.colab.kernel.invokeFunction('convertToInteractive',\n",
              "                                                     [key], {});\n",
              "          if (!dataTable) return;\n",
              "\n",
              "          const docLinkHtml = 'Like what you see? Visit the ' +\n",
              "            '<a target=\"_blank\" href=https://colab.research.google.com/notebooks/data_table.ipynb>data table notebook</a>'\n",
              "            + ' to learn more about interactive tables.';\n",
              "          element.innerHTML = '';\n",
              "          dataTable['output_type'] = 'display_data';\n",
              "          await google.colab.output.renderOutput(dataTable, element);\n",
              "          const docLink = document.createElement('div');\n",
              "          docLink.innerHTML = docLinkHtml;\n",
              "          element.appendChild(docLink);\n",
              "        }\n",
              "      </script>\n",
              "    </div>\n",
              "  </div>\n",
              "  "
            ]
          },
          "metadata": {},
          "execution_count": 5
        }
      ]
    },
    {
      "cell_type": "code",
      "source": [
        "df_tesla['High'].plot(figsize=(12,4))"
      ],
      "metadata": {
        "colab": {
          "base_uri": "https://localhost:8080/",
          "height": 287
        },
        "id": "6mi20ThfSacM",
        "outputId": "67c1fe8a-932d-40f1-b324-c60cdee5e3ae"
      },
      "execution_count": 6,
      "outputs": [
        {
          "output_type": "execute_result",
          "data": {
            "text/plain": [
              "<matplotlib.axes._subplots.AxesSubplot at 0x7f35ccaad6d0>"
            ]
          },
          "metadata": {},
          "execution_count": 6
        },
        {
          "output_type": "display_data",
          "data": {
            "text/plain": [
              "<Figure size 864x288 with 1 Axes>"
            ],
            "image/png": "[encoded data removed]"
          },
          "metadata": {
            "needs_background": "light"
          }
        }
      ]
    },
    {
      "cell_type": "code",
      "source": [
        "df_tesla['High'].plot(xlim=['2020-01-01','2021-09-01'],figsize=(12,4))"
      ],
      "metadata": {
        "colab": {
          "base_uri": "https://localhost:8080/",
          "height": 295
        },
        "id": "ZqOj5Z3dSafG",
        "outputId": "cc309cb1-daf3-4c80-8c74-45ed26d3775b"
      },
      "execution_count": 7,
      "outputs": [
        {
          "output_type": "execute_result",
          "data": {
            "text/plain": [
              "<matplotlib.axes._subplots.AxesSubplot at 0x7f35ccb57310>"
            ]
          },
          "metadata": {},
          "execution_count": 7
        },
        {
          "output_type": "display_data",
          "data": {
            "text/plain": [
              "<Figure size 864x288 with 1 Axes>"
            ],
            "image/png": "[encoded data removed]"
          },
          "metadata": {
            "needs_background": "light"
          }
        }
      ]
    },
    {
      "cell_type": "code",
      "source": [
        "df_tesla['High'].plot(xlim=['2020-01-01','2021-09-01'],ylim=[0,900],figsize=(12,4))"
      ],
      "metadata": {
        "colab": {
          "base_uri": "https://localhost:8080/",
          "height": 299
        },
        "id": "wJJRKPy3Sah9",
        "outputId": "32b9d436-82bc-4c51-9346-c47a779e8f19"
      },
      "execution_count": 8,
      "outputs": [
        {
          "output_type": "execute_result",
          "data": {
            "text/plain": [
              "<matplotlib.axes._subplots.AxesSubplot at 0x7f35ccb9e0d0>"
            ]
          },
          "metadata": {},
          "execution_count": 8
        },
        {
          "output_type": "display_data",
          "data": {
            "text/plain": [
              "<Figure size 864x288 with 1 Axes>"
            ],
            "image/png": "[encoded data removed]"
          },
          "metadata": {
            "needs_background": "light"
          }
        }
      ]
    },
    {
      "cell_type": "code",
      "source": [
        "df_tesla.index"
      ],
      "metadata": {
        "colab": {
          "base_uri": "https://localhost:8080/"
        },
        "id": "iaIpXNEwSak0",
        "outputId": "5d18032d-1f89-4f17-96d0-5adbab14f046"
      },
      "execution_count": 9,
      "outputs": [
        {
          "output_type": "execute_result",
          "data": {
            "text/plain": [
              "DatetimeIndex(['2017-07-14', '2017-07-17', '2017-07-18', '2017-07-19',\n",
              "               '2017-07-20', '2017-07-21', '2017-07-24', '2017-07-25',\n",
              "               '2017-07-26', '2017-07-27',\n",
              "               ...\n",
              "               '2022-06-28', '2022-06-29', '2022-06-30', '2022-07-01',\n",
              "               '2022-07-05', '2022-07-06', '2022-07-07', '2022-07-08',\n",
              "               '2022-07-11', '2022-07-12'],\n",
              "              dtype='datetime64[ns]', name='Date', length=1257, freq=None)"
            ]
          },
          "metadata": {},
          "execution_count": 9
        }
      ]
    },
    {
      "cell_type": "code",
      "source": [
        "index=df_tesla.loc['2020-01-01':'2021-09-01'].index\n",
        "share_open=df_tesla.loc['2020-01-01':'2021-09-01']['Open']"
      ],
      "metadata": {
        "id": "f50Qx2chSani"
      },
      "execution_count": 10,
      "outputs": []
    },
    {
      "cell_type": "code",
      "source": [
        "share_open"
      ],
      "metadata": {
        "colab": {
          "base_uri": "https://localhost:8080/"
        },
        "id": "R6lpTQiJSap3",
        "outputId": "837ffc9f-5057-449c-f21a-8a4530880ce8"
      },
      "execution_count": 11,
      "outputs": [
        {
          "output_type": "execute_result",
          "data": {
            "text/plain": [
              "Date\n",
              "2020-01-02     84.900002\n",
              "2020-01-03     88.099998\n",
              "2020-01-06     88.094002\n",
              "2020-01-07     92.279999\n",
              "2020-01-08     94.739998\n",
              "                 ...    \n",
              "2021-08-26    708.309998\n",
              "2021-08-27    705.000000\n",
              "2021-08-30    714.719971\n",
              "2021-08-31    733.000000\n",
              "2021-09-01    734.080017\n",
              "Name: Open, Length: 421, dtype: float64"
            ]
          },
          "metadata": {},
          "execution_count": 11
        }
      ]
    },
    {
      "cell_type": "code",
      "source": [
        "index"
      ],
      "metadata": {
        "colab": {
          "base_uri": "https://localhost:8080/"
        },
        "id": "E01qa4MASask",
        "outputId": "56755e96-f47a-4cc2-e72e-1c4e84298b35"
      },
      "execution_count": 12,
      "outputs": [
        {
          "output_type": "execute_result",
          "data": {
            "text/plain": [
              "DatetimeIndex(['2020-01-02', '2020-01-03', '2020-01-06', '2020-01-07',\n",
              "               '2020-01-08', '2020-01-09', '2020-01-10', '2020-01-13',\n",
              "               '2020-01-14', '2020-01-15',\n",
              "               ...\n",
              "               '2021-08-19', '2021-08-20', '2021-08-23', '2021-08-24',\n",
              "               '2021-08-25', '2021-08-26', '2021-08-27', '2021-08-30',\n",
              "               '2021-08-31', '2021-09-01'],\n",
              "              dtype='datetime64[ns]', name='Date', length=421, freq=None)"
            ]
          },
          "metadata": {},
          "execution_count": 12
        }
      ]
    },
    {
      "cell_type": "code",
      "source": [
        "import matplotlib.pyplot as plt\n",
        "%matplotlib inline"
      ],
      "metadata": {
        "id": "ZKcnb-ZdSaxh"
      },
      "execution_count": 13,
      "outputs": []
    },
    {
      "cell_type": "code",
      "source": [
        "figure,axis=plt.subplots()\n",
        "plt.tight_layout()\n",
        "## Preventing overlapping\n",
        "figure.autofmt_xdate()\n",
        "axis.plot(index,share_open)"
      ],
      "metadata": {
        "colab": {
          "base_uri": "https://localhost:8080/",
          "height": 301
        },
        "id": "krzlZvY3Sa0I",
        "outputId": "48389585-d315-44cc-d1bd-d4df3be45d8b"
      },
      "execution_count": 14,
      "outputs": [
        {
          "output_type": "execute_result",
          "data": {
            "text/plain": [
              "[<matplotlib.lines.Line2D at 0x7f35cc3a4850>]"
            ]
          },
          "metadata": {},
          "execution_count": 14
        },
        {
          "output_type": "display_data",
          "data": {
            "text/plain": [
              "<Figure size 432x288 with 1 Axes>"
            ],
            "image/png": "[encoded data removed]"
          },
          "metadata": {
            "needs_background": "light"
          }
        }
      ]
    },
    {
      "cell_type": "code",
      "source": [
        "df_tesla=df_tesla.reset_index()"
      ],
      "metadata": {
        "id": "z2QfiVkhSa22"
      },
      "execution_count": 15,
      "outputs": []
    },
    {
      "cell_type": "code",
      "source": [
        "df_tesla.info()"
      ],
      "metadata": {
        "colab": {
          "base_uri": "https://localhost:8080/"
        },
        "id": "j7fLbX5hSa5M",
        "outputId": "a9c05d40-df91-4cfd-8ad5-7344b7d7e2ec"
      },
      "execution_count": 16,
      "outputs": [
        {
          "output_type": "stream",
          "name": "stdout",
          "text": [
            "<class 'pandas.core.frame.DataFrame'>\n",
            "RangeIndex: 1257 entries, 0 to 1256\n",
            "Data columns (total 7 columns):\n",
            " #   Column     Non-Null Count  Dtype         \n",
            "---  ------     --------------  -----         \n",
            " 0   Date       1257 non-null   datetime64[ns]\n",
            " 1   High       1257 non-null   float64       \n",
            " 2   Low        1257 non-null   float64       \n",
            " 3   Open       1257 non-null   float64       \n",
            " 4   Close      1257 non-null   float64       \n",
            " 5   Volume     1257 non-null   float64       \n",
            " 6   Adj Close  1257 non-null   float64       \n",
            "dtypes: datetime64[ns](1), float64(6)\n",
            "memory usage: 68.9 KB\n"
          ]
        }
      ]
    },
    {
      "cell_type": "code",
      "source": [
        "df_tesla=df_tesla.set_index('Date',drop=True)\n",
        "df_tesla.head()"
      ],
      "metadata": {
        "colab": {
          "base_uri": "https://localhost:8080/",
          "height": 238
        },
        "id": "xB92CWl3Sa7s",
        "outputId": "db6d6169-f211-42ae-8089-2f611c84c632"
      },
      "execution_count": 18,
      "outputs": [
        {
          "output_type": "execute_result",
          "data": {
            "text/plain": [
              "                 High        Low       Open      Close      Volume  Adj Close\n",
              "Date                                                                         \n",
              "2017-07-14  65.683998  64.244003  64.638000  65.556000  28126000.0  65.556000\n",
              "2017-07-17  65.419998  62.689999  65.108002  63.914001  49384500.0  63.914001\n",
              "2017-07-18  65.825996  63.132000  63.500000  65.648003  31868500.0  65.648003\n",
              "2017-07-19  66.330002  64.643997  65.646004  65.052002  31785000.0  65.052002\n",
              "2017-07-20  66.043999  64.839996  65.379997  65.984001  25831000.0  65.984001"
            ],
            "text/html": [
              "\n",
              "  <div id=\"df-2aa5f6a8-6f3d-4a9e-8101-c2163adc5237\">\n",
              "    <div class=\"colab-df-container\">\n",
              "      <div>\n",
              "<style scoped>\n",
              "    .dataframe tbody tr th:only-of-type {\n",
              "        vertical-align: middle;\n",
              "    }\n",
              "\n",
              "    .dataframe tbody tr th {\n",
              "        vertical-align: top;\n",
              "    }\n",
              "\n",
              "    .dataframe thead th {\n",
              "        text-align: right;\n",
              "    }\n",
              "</style>\n",
              "<table border=\"1\" class=\"dataframe\">\n",
              "  <thead>\n",
              "    <tr style=\"text-align: right;\">\n",
              "      <th></th>\n",
              "      <th>High</th>\n",
              "      <th>Low</th>\n",
              "      <th>Open</th>\n",
              "      <th>Close</th>\n",
              "      <th>Volume</th>\n",
              "      <th>Adj Close</th>\n",
              "    </tr>\n",
              "    <tr>\n",
              "      <th>Date</th>\n",
              "      <th></th>\n",
              "      <th></th>\n",
              "      <th></th>\n",
              "      <th></th>\n",
              "      <th></th>\n",
              "      <th></th>\n",
              "    </tr>\n",
              "  </thead>\n",
              "  <tbody>\n",
              "    <tr>\n",
              "      <th>2017-07-14</th>\n",
              "      <td>65.683998</td>\n",
              "      <td>64.244003</td>\n",
              "      <td>64.638000</td>\n",
              "      <td>65.556000</td>\n",
              "      <td>28126000.0</td>\n",
              "      <td>65.556000</td>\n",
              "    </tr>\n",
              "    <tr>\n",
              "      <th>2017-07-17</th>\n",
              "      <td>65.419998</td>\n",
              "      <td>62.689999</td>\n",
              "      <td>65.108002</td>\n",
              "      <td>63.914001</td>\n",
              "      <td>49384500.0</td>\n",
              "      <td>63.914001</td>\n",
              "    </tr>\n",
              "    <tr>\n",
              "      <th>2017-07-18</th>\n",
              "      <td>65.825996</td>\n",
              "      <td>63.132000</td>\n",
              "      <td>63.500000</td>\n",
              "      <td>65.648003</td>\n",
              "      <td>31868500.0</td>\n",
              "      <td>65.648003</td>\n",
              "    </tr>\n",
              "    <tr>\n",
              "      <th>2017-07-19</th>\n",
              "      <td>66.330002</td>\n",
              "      <td>64.643997</td>\n",
              "      <td>65.646004</td>\n",
              "      <td>65.052002</td>\n",
              "      <td>31785000.0</td>\n",
              "      <td>65.052002</td>\n",
              "    </tr>\n",
              "    <tr>\n",
              "      <th>2017-07-20</th>\n",
              "      <td>66.043999</td>\n",
              "      <td>64.839996</td>\n",
              "      <td>65.379997</td>\n",
              "      <td>65.984001</td>\n",
              "      <td>25831000.0</td>\n",
              "      <td>65.984001</td>\n",
              "    </tr>\n",
              "  </tbody>\n",
              "</table>\n",
              "</div>\n",
              "      <button class=\"colab-df-convert\" onclick=\"convertToInteractive('df-2aa5f6a8-6f3d-4a9e-8101-c2163adc5237')\"\n",
              "              title=\"Convert this dataframe to an interactive table.\"\n",
              "              style=\"display:none;\">\n",
              "        \n",
              "  <svg xmlns=\"http://www.w3.org/2000/svg\" height=\"24px\"viewBox=\"0 0 24 24\"\n",
              "       width=\"24px\">\n",
              "    <path d=\"M0 0h24v24H0V0z\" fill=\"none\"/>\n",
              "    <path d=\"M18.56 5.44l.94 2.06.94-2.06 2.06-.94-2.06-.94-.94-2.06-.94 2.06-2.06.94zm-11 1L8.5 8.5l.94-2.06 2.06-.94-2.06-.94L8.5 2.5l-.94 2.06-2.06.94zm10 10l.94 2.06.94-2.06 2.06-.94-2.06-.94-.94-2.06-.94 2.06-2.06.94z\"/><path d=\"M17.41 7.96l-1.37-1.37c-.4-.4-.92-.59-1.43-.59-.52 0-1.04.2-1.43.59L10.3 9.45l-7.72 7.72c-.78.78-.78 2.05 0 2.83L4 21.41c.39.39.9.59 1.41.59.51 0 1.02-.2 1.41-.59l7.78-7.78 2.81-2.81c.8-.78.8-2.07 0-2.86zM5.41 20L4 18.59l7.72-7.72 1.47 1.35L5.41 20z\"/>\n",
              "  </svg>\n",
              "      </button>\n",
              "      \n",
              "  <style>\n",
              "    .colab-df-container {\n",
              "      display:flex;\n",
              "      flex-wrap:wrap;\n",
              "      gap: 12px;\n",
              "    }\n",
              "\n",
              "    .colab-df-convert {\n",
              "      background-color: #E8F0FE;\n",
              "      border: none;\n",
              "      border-radius: 50%;\n",
              "      cursor: pointer;\n",
              "      display: none;\n",
              "      fill: #1967D2;\n",
              "      height: 32px;\n",
              "      padding: 0 0 0 0;\n",
              "      width: 32px;\n",
              "    }\n",
              "\n",
              "    .colab-df-convert:hover {\n",
              "      background-color: #E2EBFA;\n",
              "      box-shadow: 0px 1px 2px rgba(60, 64, 67, 0.3), 0px 1px 3px 1px rgba(60, 64, 67, 0.15);\n",
              "      fill: #174EA6;\n",
              "    }\n",
              "\n",
              "    [theme=dark] .colab-df-convert {\n",
              "      background-color: #3B4455;\n",
              "      fill: #D2E3FC;\n",
              "    }\n",
              "\n",
              "    [theme=dark] .colab-df-convert:hover {\n",
              "      background-color: #434B5C;\n",
              "      box-shadow: 0px 1px 3px 1px rgba(0, 0, 0, 0.15);\n",
              "      filter: drop-shadow(0px 1px 2px rgba(0, 0, 0, 0.3));\n",
              "      fill: #FFFFFF;\n",
              "    }\n",
              "  </style>\n",
              "\n",
              "      <script>\n",
              "        const buttonEl =\n",
              "          document.querySelector('#df-2aa5f6a8-6f3d-4a9e-8101-c2163adc5237 button.colab-df-convert');\n",
              "        buttonEl.style.display =\n",
              "          google.colab.kernel.accessAllowed ? 'block' : 'none';\n",
              "\n",
              "        async function convertToInteractive(key) {\n",
              "          const element = document.querySelector('#df-2aa5f6a8-6f3d-4a9e-8101-c2163adc5237');\n",
              "          const dataTable =\n",
              "            await google.colab.kernel.invokeFunction('convertToInteractive',\n",
              "                                                     [key], {});\n",
              "          if (!dataTable) return;\n",
              "\n",
              "          const docLinkHtml = 'Like what you see? Visit the ' +\n",
              "            '<a target=\"_blank\" href=https://colab.research.google.com/notebooks/data_table.ipynb>data table notebook</a>'\n",
              "            + ' to learn more about interactive tables.';\n",
              "          element.innerHTML = '';\n",
              "          dataTable['output_type'] = 'display_data';\n",
              "          await google.colab.output.renderOutput(dataTable, element);\n",
              "          const docLink = document.createElement('div');\n",
              "          docLink.innerHTML = docLinkHtml;\n",
              "          element.appendChild(docLink);\n",
              "        }\n",
              "      </script>\n",
              "    </div>\n",
              "  </div>\n",
              "  "
            ]
          },
          "metadata": {},
          "execution_count": 18
        }
      ]
    },
    {
      "cell_type": "markdown",
      "source": [
        "## Time Resampling"
      ],
      "metadata": {
        "id": "Hc_5buwNVCk-"
      }
    },
    {
      "cell_type": "code",
      "source": [
        "df_tesla.head()"
      ],
      "metadata": {
        "colab": {
          "base_uri": "https://localhost:8080/",
          "height": 238
        },
        "id": "Mx4TbmXjSa-F",
        "outputId": "f04f37d3-7ae2-4f89-be18-21e9ab75bf23"
      },
      "execution_count": 19,
      "outputs": [
        {
          "output_type": "execute_result",
          "data": {
            "text/plain": [
              "                 High        Low       Open      Close      Volume  Adj Close\n",
              "Date                                                                         \n",
              "2017-07-14  65.683998  64.244003  64.638000  65.556000  28126000.0  65.556000\n",
              "2017-07-17  65.419998  62.689999  65.108002  63.914001  49384500.0  63.914001\n",
              "2017-07-18  65.825996  63.132000  63.500000  65.648003  31868500.0  65.648003\n",
              "2017-07-19  66.330002  64.643997  65.646004  65.052002  31785000.0  65.052002\n",
              "2017-07-20  66.043999  64.839996  65.379997  65.984001  25831000.0  65.984001"
            ],
            "text/html": [
              "\n",
              "  <div id=\"df-caa7c167-2641-4eea-8c53-748b65dc6bd1\">\n",
              "    <div class=\"colab-df-container\">\n",
              "      <div>\n",
              "<style scoped>\n",
              "    .dataframe tbody tr th:only-of-type {\n",
              "        vertical-align: middle;\n",
              "    }\n",
              "\n",
              "    .dataframe tbody tr th {\n",
              "        vertical-align: top;\n",
              "    }\n",
              "\n",
              "    .dataframe thead th {\n",
              "        text-align: right;\n",
              "    }\n",
              "</style>\n",
              "<table border=\"1\" class=\"dataframe\">\n",
              "  <thead>\n",
              "    <tr style=\"text-align: right;\">\n",
              "      <th></th>\n",
              "      <th>High</th>\n",
              "      <th>Low</th>\n",
              "      <th>Open</th>\n",
              "      <th>Close</th>\n",
              "      <th>Volume</th>\n",
              "      <th>Adj Close</th>\n",
              "    </tr>\n",
              "    <tr>\n",
              "      <th>Date</th>\n",
              "      <th></th>\n",
              "      <th></th>\n",
              "      <th></th>\n",
              "      <th></th>\n",
              "      <th></th>\n",
              "      <th></th>\n",
              "    </tr>\n",
              "  </thead>\n",
              "  <tbody>\n",
              "    <tr>\n",
              "      <th>2017-07-14</th>\n",
              "      <td>65.683998</td>\n",
              "      <td>64.244003</td>\n",
              "      <td>64.638000</td>\n",
              "      <td>65.556000</td>\n",
              "      <td>28126000.0</td>\n",
              "      <td>65.556000</td>\n",
              "    </tr>\n",
              "    <tr>\n",
              "      <th>2017-07-17</th>\n",
              "      <td>65.419998</td>\n",
              "      <td>62.689999</td>\n",
              "      <td>65.108002</td>\n",
              "      <td>63.914001</td>\n",
              "      <td>49384500.0</td>\n",
              "      <td>63.914001</td>\n",
              "    </tr>\n",
              "    <tr>\n",
              "      <th>2017-07-18</th>\n",
              "      <td>65.825996</td>\n",
              "      <td>63.132000</td>\n",
              "      <td>63.500000</td>\n",
              "      <td>65.648003</td>\n",
              "      <td>31868500.0</td>\n",
              "      <td>65.648003</td>\n",
              "    </tr>\n",
              "    <tr>\n",
              "      <th>2017-07-19</th>\n",
              "      <td>66.330002</td>\n",
              "      <td>64.643997</td>\n",
              "      <td>65.646004</td>\n",
              "      <td>65.052002</td>\n",
              "      <td>31785000.0</td>\n",
              "      <td>65.052002</td>\n",
              "    </tr>\n",
              "    <tr>\n",
              "      <th>2017-07-20</th>\n",
              "      <td>66.043999</td>\n",
              "      <td>64.839996</td>\n",
              "      <td>65.379997</td>\n",
              "      <td>65.984001</td>\n",
              "      <td>25831000.0</td>\n",
              "      <td>65.984001</td>\n",
              "    </tr>\n",
              "  </tbody>\n",
              "</table>\n",
              "</div>\n",
              "      <button class=\"colab-df-convert\" onclick=\"convertToInteractive('df-caa7c167-2641-4eea-8c53-748b65dc6bd1')\"\n",
              "              title=\"Convert this dataframe to an interactive table.\"\n",
              "              style=\"display:none;\">\n",
              "        \n",
              "  <svg xmlns=\"http://www.w3.org/2000/svg\" height=\"24px\"viewBox=\"0 0 24 24\"\n",
              "       width=\"24px\">\n",
              "    <path d=\"M0 0h24v24H0V0z\" fill=\"none\"/>\n",
              "    <path d=\"M18.56 5.44l.94 2.06.94-2.06 2.06-.94-2.06-.94-.94-2.06-.94 2.06-2.06.94zm-11 1L8.5 8.5l.94-2.06 2.06-.94-2.06-.94L8.5 2.5l-.94 2.06-2.06.94zm10 10l.94 2.06.94-2.06 2.06-.94-2.06-.94-.94-2.06-.94 2.06-2.06.94z\"/><path d=\"M17.41 7.96l-1.37-1.37c-.4-.4-.92-.59-1.43-.59-.52 0-1.04.2-1.43.59L10.3 9.45l-7.72 7.72c-.78.78-.78 2.05 0 2.83L4 21.41c.39.39.9.59 1.41.59.51 0 1.02-.2 1.41-.59l7.78-7.78 2.81-2.81c.8-.78.8-2.07 0-2.86zM5.41 20L4 18.59l7.72-7.72 1.47 1.35L5.41 20z\"/>\n",
              "  </svg>\n",
              "      </button>\n",
              "      \n",
              "  <style>\n",
              "    .colab-df-container {\n",
              "      display:flex;\n",
              "      flex-wrap:wrap;\n",
              "      gap: 12px;\n",
              "    }\n",
              "\n",
              "    .colab-df-convert {\n",
              "      background-color: #E8F0FE;\n",
              "      border: none;\n",
              "      border-radius: 50%;\n",
              "      cursor: pointer;\n",
              "      display: none;\n",
              "      fill: #1967D2;\n",
              "      height: 32px;\n",
              "      padding: 0 0 0 0;\n",
              "      width: 32px;\n",
              "    }\n",
              "\n",
              "    .colab-df-convert:hover {\n",
              "      background-color: #E2EBFA;\n",
              "      box-shadow: 0px 1px 2px rgba(60, 64, 67, 0.3), 0px 1px 3px 1px rgba(60, 64, 67, 0.15);\n",
              "      fill: #174EA6;\n",
              "    }\n",
              "\n",
              "    [theme=dark] .colab-df-convert {\n",
              "      background-color: #3B4455;\n",
              "      fill: #D2E3FC;\n",
              "    }\n",
              "\n",
              "    [theme=dark] .colab-df-convert:hover {\n",
              "      background-color: #434B5C;\n",
              "      box-shadow: 0px 1px 3px 1px rgba(0, 0, 0, 0.15);\n",
              "      filter: drop-shadow(0px 1px 2px rgba(0, 0, 0, 0.3));\n",
              "      fill: #FFFFFF;\n",
              "    }\n",
              "  </style>\n",
              "\n",
              "      <script>\n",
              "        const buttonEl =\n",
              "          document.querySelector('#df-caa7c167-2641-4eea-8c53-748b65dc6bd1 button.colab-df-convert');\n",
              "        buttonEl.style.display =\n",
              "          google.colab.kernel.accessAllowed ? 'block' : 'none';\n",
              "\n",
              "        async function convertToInteractive(key) {\n",
              "          const element = document.querySelector('#df-caa7c167-2641-4eea-8c53-748b65dc6bd1');\n",
              "          const dataTable =\n",
              "            await google.colab.kernel.invokeFunction('convertToInteractive',\n",
              "                                                     [key], {});\n",
              "          if (!dataTable) return;\n",
              "\n",
              "          const docLinkHtml = 'Like what you see? Visit the ' +\n",
              "            '<a target=\"_blank\" href=https://colab.research.google.com/notebooks/data_table.ipynb>data table notebook</a>'\n",
              "            + ' to learn more about interactive tables.';\n",
              "          element.innerHTML = '';\n",
              "          dataTable['output_type'] = 'display_data';\n",
              "          await google.colab.output.renderOutput(dataTable, element);\n",
              "          const docLink = document.createElement('div');\n",
              "          docLink.innerHTML = docLinkHtml;\n",
              "          element.appendChild(docLink);\n",
              "        }\n",
              "      </script>\n",
              "    </div>\n",
              "  </div>\n",
              "  "
            ]
          },
          "metadata": {},
          "execution_count": 19
        }
      ]
    },
    {
      "cell_type": "code",
      "source": [
        "df_tesla.resample(rule='A').min()"
      ],
      "metadata": {
        "colab": {
          "base_uri": "https://localhost:8080/",
          "height": 269
        },
        "id": "jhMgD66OVEzK",
        "outputId": "19328896-adf3-4b99-d4f1-dbc0f3255045"
      },
      "execution_count": 20,
      "outputs": [
        {
          "output_type": "execute_result",
          "data": {
            "text/plain": [
              "                  High         Low        Open       Close      Volume  \\\n",
              "Date                                                                     \n",
              "2017-12-31   60.891998   58.526001   59.900002   59.852001  15247500.0   \n",
              "2018-12-31   52.066002   48.917999   50.556000   50.112000  15403500.0   \n",
              "2019-12-31   37.335999   35.397999   36.220001   35.793999  12328000.0   \n",
              "2020-12-31   80.972000   70.101997   74.940002   72.244003  17357700.0   \n",
              "2021-12-31  566.210022  539.489990  552.549988  563.000000   9800600.0   \n",
              "2022-12-31  653.919983  620.570007  623.849976  628.159973  16330900.0   \n",
              "\n",
              "             Adj Close  \n",
              "Date                    \n",
              "2017-12-31   59.852001  \n",
              "2018-12-31   50.112000  \n",
              "2019-12-31   35.793999  \n",
              "2020-12-31   72.244003  \n",
              "2021-12-31  563.000000  \n",
              "2022-12-31  628.159973  "
            ],
            "text/html": [
              "\n",
              "  <div id=\"df-5a1ee582-8645-4b9d-81fb-37ea08b08ac3\">\n",
              "    <div class=\"colab-df-container\">\n",
              "      <div>\n",
              "<style scoped>\n",
              "    .dataframe tbody tr th:only-of-type {\n",
              "        vertical-align: middle;\n",
              "    }\n",
              "\n",
              "    .dataframe tbody tr th {\n",
              "        vertical-align: top;\n",
              "    }\n",
              "\n",
              "    .dataframe thead th {\n",
              "        text-align: right;\n",
              "    }\n",
              "</style>\n",
              "<table border=\"1\" class=\"dataframe\">\n",
              "  <thead>\n",
              "    <tr style=\"text-align: right;\">\n",
              "      <th></th>\n",
              "      <th>High</th>\n",
              "      <th>Low</th>\n",
              "      <th>Open</th>\n",
              "      <th>Close</th>\n",
              "      <th>Volume</th>\n",
              "      <th>Adj Close</th>\n",
              "    </tr>\n",
              "    <tr>\n",
              "      <th>Date</th>\n",
              "      <th></th>\n",
              "      <th></th>\n",
              "      <th></th>\n",
              "      <th></th>\n",
              "      <th></th>\n",
              "      <th></th>\n",
              "    </tr>\n",
              "  </thead>\n",
              "  <tbody>\n",
              "    <tr>\n",
              "      <th>2017-12-31</th>\n",
              "      <td>60.891998</td>\n",
              "      <td>58.526001</td>\n",
              "      <td>59.900002</td>\n",
              "      <td>59.852001</td>\n",
              "      <td>15247500.0</td>\n",
              "      <td>59.852001</td>\n",
              "    </tr>\n",
              "    <tr>\n",
              "      <th>2018-12-31</th>\n",
              "      <td>52.066002</td>\n",
              "      <td>48.917999</td>\n",
              "      <td>50.556000</td>\n",
              "      <td>50.112000</td>\n",
              "      <td>15403500.0</td>\n",
              "      <td>50.112000</td>\n",
              "    </tr>\n",
              "    <tr>\n",
              "      <th>2019-12-31</th>\n",
              "      <td>37.335999</td>\n",
              "      <td>35.397999</td>\n",
              "      <td>36.220001</td>\n",
              "      <td>35.793999</td>\n",
              "      <td>12328000.0</td>\n",
              "      <td>35.793999</td>\n",
              "    </tr>\n",
              "    <tr>\n",
              "      <th>2020-12-31</th>\n",
              "      <td>80.972000</td>\n",
              "      <td>70.101997</td>\n",
              "      <td>74.940002</td>\n",
              "      <td>72.244003</td>\n",
              "      <td>17357700.0</td>\n",
              "      <td>72.244003</td>\n",
              "    </tr>\n",
              "    <tr>\n",
              "      <th>2021-12-31</th>\n",
              "      <td>566.210022</td>\n",
              "      <td>539.489990</td>\n",
              "      <td>552.549988</td>\n",
              "      <td>563.000000</td>\n",
              "      <td>9800600.0</td>\n",
              "      <td>563.000000</td>\n",
              "    </tr>\n",
              "    <tr>\n",
              "      <th>2022-12-31</th>\n",
              "      <td>653.919983</td>\n",
              "      <td>620.570007</td>\n",
              "      <td>623.849976</td>\n",
              "      <td>628.159973</td>\n",
              "      <td>16330900.0</td>\n",
              "      <td>628.159973</td>\n",
              "    </tr>\n",
              "  </tbody>\n",
              "</table>\n",
              "</div>\n",
              "      <button class=\"colab-df-convert\" onclick=\"convertToInteractive('df-5a1ee582-8645-4b9d-81fb-37ea08b08ac3')\"\n",
              "              title=\"Convert this dataframe to an interactive table.\"\n",
              "              style=\"display:none;\">\n",
              "        \n",
              "  <svg xmlns=\"http://www.w3.org/2000/svg\" height=\"24px\"viewBox=\"0 0 24 24\"\n",
              "       width=\"24px\">\n",
              "    <path d=\"M0 0h24v24H0V0z\" fill=\"none\"/>\n",
              "    <path d=\"M18.56 5.44l.94 2.06.94-2.06 2.06-.94-2.06-.94-.94-2.06-.94 2.06-2.06.94zm-11 1L8.5 8.5l.94-2.06 2.06-.94-2.06-.94L8.5 2.5l-.94 2.06-2.06.94zm10 10l.94 2.06.94-2.06 2.06-.94-2.06-.94-.94-2.06-.94 2.06-2.06.94z\"/><path d=\"M17.41 7.96l-1.37-1.37c-.4-.4-.92-.59-1.43-.59-.52 0-1.04.2-1.43.59L10.3 9.45l-7.72 7.72c-.78.78-.78 2.05 0 2.83L4 21.41c.39.39.9.59 1.41.59.51 0 1.02-.2 1.41-.59l7.78-7.78 2.81-2.81c.8-.78.8-2.07 0-2.86zM5.41 20L4 18.59l7.72-7.72 1.47 1.35L5.41 20z\"/>\n",
              "  </svg>\n",
              "      </button>\n",
              "      \n",
              "  <style>\n",
              "    .colab-df-container {\n",
              "      display:flex;\n",
              "      flex-wrap:wrap;\n",
              "      gap: 12px;\n",
              "    }\n",
              "\n",
              "    .colab-df-convert {\n",
              "      background-color: #E8F0FE;\n",
              "      border: none;\n",
              "      border-radius: 50%;\n",
              "      cursor: pointer;\n",
              "      display: none;\n",
              "      fill: #1967D2;\n",
              "      height: 32px;\n",
              "      padding: 0 0 0 0;\n",
              "      width: 32px;\n",
              "    }\n",
              "\n",
              "    .colab-df-convert:hover {\n",
              "      background-color: #E2EBFA;\n",
              "      box-shadow: 0px 1px 2px rgba(60, 64, 67, 0.3), 0px 1px 3px 1px rgba(60, 64, 67, 0.15);\n",
              "      fill: #174EA6;\n",
              "    }\n",
              "\n",
              "    [theme=dark] .colab-df-convert {\n",
              "      background-color: #3B4455;\n",
              "      fill: #D2E3FC;\n",
              "    }\n",
              "\n",
              "    [theme=dark] .colab-df-convert:hover {\n",
              "      background-color: #434B5C;\n",
              "      box-shadow: 0px 1px 3px 1px rgba(0, 0, 0, 0.15);\n",
              "      filter: drop-shadow(0px 1px 2px rgba(0, 0, 0, 0.3));\n",
              "      fill: #FFFFFF;\n",
              "    }\n",
              "  </style>\n",
              "\n",
              "      <script>\n",
              "        const buttonEl =\n",
              "          document.querySelector('#df-5a1ee582-8645-4b9d-81fb-37ea08b08ac3 button.colab-df-convert');\n",
              "        buttonEl.style.display =\n",
              "          google.colab.kernel.accessAllowed ? 'block' : 'none';\n",
              "\n",
              "        async function convertToInteractive(key) {\n",
              "          const element = document.querySelector('#df-5a1ee582-8645-4b9d-81fb-37ea08b08ac3');\n",
              "          const dataTable =\n",
              "            await google.colab.kernel.invokeFunction('convertToInteractive',\n",
              "                                                     [key], {});\n",
              "          if (!dataTable) return;\n",
              "\n",
              "          const docLinkHtml = 'Like what you see? Visit the ' +\n",
              "            '<a target=\"_blank\" href=https://colab.research.google.com/notebooks/data_table.ipynb>data table notebook</a>'\n",
              "            + ' to learn more about interactive tables.';\n",
              "          element.innerHTML = '';\n",
              "          dataTable['output_type'] = 'display_data';\n",
              "          await google.colab.output.renderOutput(dataTable, element);\n",
              "          const docLink = document.createElement('div');\n",
              "          docLink.innerHTML = docLinkHtml;\n",
              "          element.appendChild(docLink);\n",
              "        }\n",
              "      </script>\n",
              "    </div>\n",
              "  </div>\n",
              "  "
            ]
          },
          "metadata": {},
          "execution_count": 20
        }
      ]
    },
    {
      "cell_type": "code",
      "source": [
        "df_tesla.resample(rule='A').max()\n",
        "# returns max high, low, open, close etc in each year"
      ],
      "metadata": {
        "colab": {
          "base_uri": "https://localhost:8080/",
          "height": 269
        },
        "id": "QmPKjd-sVE2d",
        "outputId": "984c2859-b90b-408d-a8ae-ce8a254156e4"
      },
      "execution_count": 21,
      "outputs": [
        {
          "output_type": "execute_result",
          "data": {
            "text/plain": [
              "                   High          Low         Open        Close       Volume  \\\n",
              "Date                                                                          \n",
              "2017-12-31    77.921997    75.536003    76.050003    77.000000   98957000.0   \n",
              "2018-12-31    77.491997    73.424004    75.000000    75.914001  168248500.0   \n",
              "2019-12-31    87.061996    85.269997    87.000000    86.188004  150030500.0   \n",
              "2020-12-31   718.719971   691.119995   699.989990   705.669983  304694000.0   \n",
              "2021-12-31  1243.489990  1217.000000  1234.410034  1229.910034   89396500.0   \n",
              "2022-12-31  1208.000000  1136.040039  1189.550049  1199.780029   50521900.0   \n",
              "\n",
              "              Adj Close  \n",
              "Date                     \n",
              "2017-12-31    77.000000  \n",
              "2018-12-31    75.914001  \n",
              "2019-12-31    86.188004  \n",
              "2020-12-31   705.669983  \n",
              "2021-12-31  1229.910034  \n",
              "2022-12-31  1199.780029  "
            ],
            "text/html": [
              "\n",
              "  <div id=\"df-4e08e254-d14a-4c2b-a0e3-c1f57019bf84\">\n",
              "    <div class=\"colab-df-container\">\n",
              "      <div>\n",
              "<style scoped>\n",
              "    .dataframe tbody tr th:only-of-type {\n",
              "        vertical-align: middle;\n",
              "    }\n",
              "\n",
              "    .dataframe tbody tr th {\n",
              "        vertical-align: top;\n",
              "    }\n",
              "\n",
              "    .dataframe thead th {\n",
              "        text-align: right;\n",
              "    }\n",
              "</style>\n",
              "<table border=\"1\" class=\"dataframe\">\n",
              "  <thead>\n",
              "    <tr style=\"text-align: right;\">\n",
              "      <th></th>\n",
              "      <th>High</th>\n",
              "      <th>Low</th>\n",
              "      <th>Open</th>\n",
              "      <th>Close</th>\n",
              "      <th>Volume</th>\n",
              "      <th>Adj Close</th>\n",
              "    </tr>\n",
              "    <tr>\n",
              "      <th>Date</th>\n",
              "      <th></th>\n",
              "      <th></th>\n",
              "      <th></th>\n",
              "      <th></th>\n",
              "      <th></th>\n",
              "      <th></th>\n",
              "    </tr>\n",
              "  </thead>\n",
              "  <tbody>\n",
              "    <tr>\n",
              "      <th>2017-12-31</th>\n",
              "      <td>77.921997</td>\n",
              "      <td>75.536003</td>\n",
              "      <td>76.050003</td>\n",
              "      <td>77.000000</td>\n",
              "      <td>98957000.0</td>\n",
              "      <td>77.000000</td>\n",
              "    </tr>\n",
              "    <tr>\n",
              "      <th>2018-12-31</th>\n",
              "      <td>77.491997</td>\n",
              "      <td>73.424004</td>\n",
              "      <td>75.000000</td>\n",
              "      <td>75.914001</td>\n",
              "      <td>168248500.0</td>\n",
              "      <td>75.914001</td>\n",
              "    </tr>\n",
              "    <tr>\n",
              "      <th>2019-12-31</th>\n",
              "      <td>87.061996</td>\n",
              "      <td>85.269997</td>\n",
              "      <td>87.000000</td>\n",
              "      <td>86.188004</td>\n",
              "      <td>150030500.0</td>\n",
              "      <td>86.188004</td>\n",
              "    </tr>\n",
              "    <tr>\n",
              "      <th>2020-12-31</th>\n",
              "      <td>718.719971</td>\n",
              "      <td>691.119995</td>\n",
              "      <td>699.989990</td>\n",
              "      <td>705.669983</td>\n",
              "      <td>304694000.0</td>\n",
              "      <td>705.669983</td>\n",
              "    </tr>\n",
              "    <tr>\n",
              "      <th>2021-12-31</th>\n",
              "      <td>1243.489990</td>\n",
              "      <td>1217.000000</td>\n",
              "      <td>1234.410034</td>\n",
              "      <td>1229.910034</td>\n",
              "      <td>89396500.0</td>\n",
              "      <td>1229.910034</td>\n",
              "    </tr>\n",
              "    <tr>\n",
              "      <th>2022-12-31</th>\n",
              "      <td>1208.000000</td>\n",
              "      <td>1136.040039</td>\n",
              "      <td>1189.550049</td>\n",
              "      <td>1199.780029</td>\n",
              "      <td>50521900.0</td>\n",
              "      <td>1199.780029</td>\n",
              "    </tr>\n",
              "  </tbody>\n",
              "</table>\n",
              "</div>\n",
              "      <button class=\"colab-df-convert\" onclick=\"convertToInteractive('df-4e08e254-d14a-4c2b-a0e3-c1f57019bf84')\"\n",
              "              title=\"Convert this dataframe to an interactive table.\"\n",
              "              style=\"display:none;\">\n",
              "        \n",
              "  <svg xmlns=\"http://www.w3.org/2000/svg\" height=\"24px\"viewBox=\"0 0 24 24\"\n",
              "       width=\"24px\">\n",
              "    <path d=\"M0 0h24v24H0V0z\" fill=\"none\"/>\n",
              "    <path d=\"M18.56 5.44l.94 2.06.94-2.06 2.06-.94-2.06-.94-.94-2.06-.94 2.06-2.06.94zm-11 1L8.5 8.5l.94-2.06 2.06-.94-2.06-.94L8.5 2.5l-.94 2.06-2.06.94zm10 10l.94 2.06.94-2.06 2.06-.94-2.06-.94-.94-2.06-.94 2.06-2.06.94z\"/><path d=\"M17.41 7.96l-1.37-1.37c-.4-.4-.92-.59-1.43-.59-.52 0-1.04.2-1.43.59L10.3 9.45l-7.72 7.72c-.78.78-.78 2.05 0 2.83L4 21.41c.39.39.9.59 1.41.59.51 0 1.02-.2 1.41-.59l7.78-7.78 2.81-2.81c.8-.78.8-2.07 0-2.86zM5.41 20L4 18.59l7.72-7.72 1.47 1.35L5.41 20z\"/>\n",
              "  </svg>\n",
              "      </button>\n",
              "      \n",
              "  <style>\n",
              "    .colab-df-container {\n",
              "      display:flex;\n",
              "      flex-wrap:wrap;\n",
              "      gap: 12px;\n",
              "    }\n",
              "\n",
              "    .colab-df-convert {\n",
              "      background-color: #E8F0FE;\n",
              "      border: none;\n",
              "      border-radius: 50%;\n",
              "      cursor: pointer;\n",
              "      display: none;\n",
              "      fill: #1967D2;\n",
              "      height: 32px;\n",
              "      padding: 0 0 0 0;\n",
              "      width: 32px;\n",
              "    }\n",
              "\n",
              "    .colab-df-convert:hover {\n",
              "      background-color: #E2EBFA;\n",
              "      box-shadow: 0px 1px 2px rgba(60, 64, 67, 0.3), 0px 1px 3px 1px rgba(60, 64, 67, 0.15);\n",
              "      fill: #174EA6;\n",
              "    }\n",
              "\n",
              "    [theme=dark] .colab-df-convert {\n",
              "      background-color: #3B4455;\n",
              "      fill: #D2E3FC;\n",
              "    }\n",
              "\n",
              "    [theme=dark] .colab-df-convert:hover {\n",
              "      background-color: #434B5C;\n",
              "      box-shadow: 0px 1px 3px 1px rgba(0, 0, 0, 0.15);\n",
              "      filter: drop-shadow(0px 1px 2px rgba(0, 0, 0, 0.3));\n",
              "      fill: #FFFFFF;\n",
              "    }\n",
              "  </style>\n",
              "\n",
              "      <script>\n",
              "        const buttonEl =\n",
              "          document.querySelector('#df-4e08e254-d14a-4c2b-a0e3-c1f57019bf84 button.colab-df-convert');\n",
              "        buttonEl.style.display =\n",
              "          google.colab.kernel.accessAllowed ? 'block' : 'none';\n",
              "\n",
              "        async function convertToInteractive(key) {\n",
              "          const element = document.querySelector('#df-4e08e254-d14a-4c2b-a0e3-c1f57019bf84');\n",
              "          const dataTable =\n",
              "            await google.colab.kernel.invokeFunction('convertToInteractive',\n",
              "                                                     [key], {});\n",
              "          if (!dataTable) return;\n",
              "\n",
              "          const docLinkHtml = 'Like what you see? Visit the ' +\n",
              "            '<a target=\"_blank\" href=https://colab.research.google.com/notebooks/data_table.ipynb>data table notebook</a>'\n",
              "            + ' to learn more about interactive tables.';\n",
              "          element.innerHTML = '';\n",
              "          dataTable['output_type'] = 'display_data';\n",
              "          await google.colab.output.renderOutput(dataTable, element);\n",
              "          const docLink = document.createElement('div');\n",
              "          docLink.innerHTML = docLinkHtml;\n",
              "          element.appendChild(docLink);\n",
              "        }\n",
              "      </script>\n",
              "    </div>\n",
              "  </div>\n",
              "  "
            ]
          },
          "metadata": {},
          "execution_count": 21
        }
      ]
    },
    {
      "cell_type": "code",
      "source": [
        "df_tesla.resample(rule='A').max()['Open'].plot()\n",
        "# A = year-end frequency"
      ],
      "metadata": {
        "colab": {
          "base_uri": "https://localhost:8080/",
          "height": 297
        },
        "id": "fUWGeT9-VE5f",
        "outputId": "89a578ba-a1ad-4802-a1ba-3092d9a10457"
      },
      "execution_count": 22,
      "outputs": [
        {
          "output_type": "execute_result",
          "data": {
            "text/plain": [
              "<matplotlib.axes._subplots.AxesSubplot at 0x7f35c7f96c90>"
            ]
          },
          "metadata": {},
          "execution_count": 22
        },
        {
          "output_type": "display_data",
          "data": {
            "text/plain": [
              "<Figure size 432x288 with 1 Axes>"
            ],
            "image/png": "[encoded data removed]"
          },
          "metadata": {
            "needs_background": "light"
          }
        }
      ]
    },
    {
      "cell_type": "code",
      "source": [
        "# quarterly\n",
        "df_tesla.resample(rule='QS').max()"
      ],
      "metadata": {
        "colab": {
          "base_uri": "https://localhost:8080/",
          "height": 739
        },
        "id": "u5GdAmJwVE8V",
        "outputId": "33475923-b398-407d-b6cc-d3355e58bd71"
      },
      "execution_count": 23,
      "outputs": [
        {
          "output_type": "execute_result",
          "data": {
            "text/plain": [
              "                   High          Low         Open        Close       Volume  \\\n",
              "Date                                                                          \n",
              "2017-07-01    77.921997    75.536003    76.050003    77.000000   67675000.0   \n",
              "2017-10-01    72.599998    70.825996    71.396004    71.930000   98957000.0   \n",
              "2018-01-01    72.099998    70.472000    72.000000    71.484001  105007000.0   \n",
              "2018-04-01    74.746002    70.900002    73.031998    74.166000  111737000.0   \n",
              "2018-07-01    77.491997    73.424004    73.818001    75.914001  168248500.0   \n",
              "2018-10-01    75.898003    73.349998    75.000000    75.358002  137127500.0   \n",
              "2019-01-01    70.400002    68.830002    69.241997    69.461998  120754000.0   \n",
              "2019-04-01    59.234001    57.433998    57.660000    58.362000  132735500.0   \n",
              "2019-07-01    53.214001    51.632000    51.834000    52.976002  112091500.0   \n",
              "2019-10-01    87.061996    85.269997    87.000000    86.188004  150030500.0   \n",
              "2020-01-01   193.798004   180.203995   184.699997   183.483994  304694000.0   \n",
              "2020-04-01   217.537994   200.746002   202.556000   215.962006  162659000.0   \n",
              "2020-07-01   502.489990   470.510010   502.140015   498.320007  194927000.0   \n",
              "2020-10-01   718.719971   691.119995   699.989990   705.669983  222126200.0   \n",
              "2021-01-01   900.400024   871.599976   891.380005   883.090027   89396500.0   \n",
              "2021-04-01   780.789978   732.609985   770.700012   762.320007   49017400.0   \n",
              "2021-07-01   799.000000   775.000000   787.200012   791.359985   33615800.0   \n",
              "2021-10-01  1243.489990  1217.000000  1234.410034  1229.910034   62852100.0   \n",
              "2022-01-01  1208.000000  1136.040039  1189.550049  1199.780029   50521900.0   \n",
              "2022-04-01  1152.869995  1087.300049  1136.300049  1145.449951   48324400.0   \n",
              "2022-07-01   764.940002   723.479980   756.309998   752.289978   33343700.0   \n",
              "\n",
              "              Adj Close  \n",
              "Date                     \n",
              "2017-07-01    77.000000  \n",
              "2017-10-01    71.930000  \n",
              "2018-01-01    71.484001  \n",
              "2018-04-01    74.166000  \n",
              "2018-07-01    75.914001  \n",
              "2018-10-01    75.358002  \n",
              "2019-01-01    69.461998  \n",
              "2019-04-01    58.362000  \n",
              "2019-07-01    52.976002  \n",
              "2019-10-01    86.188004  \n",
              "2020-01-01   183.483994  \n",
              "2020-04-01   215.962006  \n",
              "2020-07-01   498.320007  \n",
              "2020-10-01   705.669983  \n",
              "2021-01-01   883.090027  \n",
              "2021-04-01   762.320007  \n",
              "2021-07-01   791.359985  \n",
              "2021-10-01  1229.910034  \n",
              "2022-01-01  1199.780029  \n",
              "2022-04-01  1145.449951  \n",
              "2022-07-01   752.289978  "
            ],
            "text/html": [
              "\n",
              "  <div id=\"df-04217292-b6e1-40b0-80b1-3be79faf7b1e\">\n",
              "    <div class=\"colab-df-container\">\n",
              "      <div>\n",
              "<style scoped>\n",
              "    .dataframe tbody tr th:only-of-type {\n",
              "        vertical-align: middle;\n",
              "    }\n",
              "\n",
              "    .dataframe tbody tr th {\n",
              "        vertical-align: top;\n",
              "    }\n",
              "\n",
              "    .dataframe thead th {\n",
              "        text-align: right;\n",
              "    }\n",
              "</style>\n",
              "<table border=\"1\" class=\"dataframe\">\n",
              "  <thead>\n",
              "    <tr style=\"text-align: right;\">\n",
              "      <th></th>\n",
              "      <th>High</th>\n",
              "      <th>Low</th>\n",
              "      <th>Open</th>\n",
              "      <th>Close</th>\n",
              "      <th>Volume</th>\n",
              "      <th>Adj Close</th>\n",
              "    </tr>\n",
              "    <tr>\n",
              "      <th>Date</th>\n",
              "      <th></th>\n",
              "      <th></th>\n",
              "      <th></th>\n",
              "      <th></th>\n",
              "      <th></th>\n",
              "      <th></th>\n",
              "    </tr>\n",
              "  </thead>\n",
              "  <tbody>\n",
              "    <tr>\n",
              "      <th>2017-07-01</th>\n",
              "      <td>77.921997</td>\n",
              "      <td>75.536003</td>\n",
              "      <td>76.050003</td>\n",
              "      <td>77.000000</td>\n",
              "      <td>67675000.0</td>\n",
              "      <td>77.000000</td>\n",
              "    </tr>\n",
              "    <tr>\n",
              "      <th>2017-10-01</th>\n",
              "      <td>72.599998</td>\n",
              "      <td>70.825996</td>\n",
              "      <td>71.396004</td>\n",
              "      <td>71.930000</td>\n",
              "      <td>98957000.0</td>\n",
              "      <td>71.930000</td>\n",
              "    </tr>\n",
              "    <tr>\n",
              "      <th>2018-01-01</th>\n",
              "      <td>72.099998</td>\n",
              "      <td>70.472000</td>\n",
              "      <td>72.000000</td>\n",
              "      <td>71.484001</td>\n",
              "      <td>105007000.0</td>\n",
              "      <td>71.484001</td>\n",
              "    </tr>\n",
              "    <tr>\n",
              "      <th>2018-04-01</th>\n",
              "      <td>74.746002</td>\n",
              "      <td>70.900002</td>\n",
              "      <td>73.031998</td>\n",
              "      <td>74.166000</td>\n",
              "      <td>111737000.0</td>\n",
              "      <td>74.166000</td>\n",
              "    </tr>\n",
              "    <tr>\n",
              "      <th>2018-07-01</th>\n",
              "      <td>77.491997</td>\n",
              "      <td>73.424004</td>\n",
              "      <td>73.818001</td>\n",
              "      <td>75.914001</td>\n",
              "      <td>168248500.0</td>\n",
              "      <td>75.914001</td>\n",
              "    </tr>\n",
              "    <tr>\n",
              "      <th>2018-10-01</th>\n",
              "      <td>75.898003</td>\n",
              "      <td>73.349998</td>\n",
              "      <td>75.000000</td>\n",
              "      <td>75.358002</td>\n",
              "      <td>137127500.0</td>\n",
              "      <td>75.358002</td>\n",
              "    </tr>\n",
              "    <tr>\n",
              "      <th>2019-01-01</th>\n",
              "      <td>70.400002</td>\n",
              "      <td>68.830002</td>\n",
              "      <td>69.241997</td>\n",
              "      <td>69.461998</td>\n",
              "      <td>120754000.0</td>\n",
              "      <td>69.461998</td>\n",
              "    </tr>\n",
              "    <tr>\n",
              "      <th>2019-04-01</th>\n",
              "      <td>59.234001</td>\n",
              "      <td>57.433998</td>\n",
              "      <td>57.660000</td>\n",
              "      <td>58.362000</td>\n",
              "      <td>132735500.0</td>\n",
              "      <td>58.362000</td>\n",
              "    </tr>\n",
              "    <tr>\n",
              "      <th>2019-07-01</th>\n",
              "      <td>53.214001</td>\n",
              "      <td>51.632000</td>\n",
              "      <td>51.834000</td>\n",
              "      <td>52.976002</td>\n",
              "      <td>112091500.0</td>\n",
              "      <td>52.976002</td>\n",
              "    </tr>\n",
              "    <tr>\n",
              "      <th>2019-10-01</th>\n",
              "      <td>87.061996</td>\n",
              "      <td>85.269997</td>\n",
              "      <td>87.000000</td>\n",
              "      <td>86.188004</td>\n",
              "      <td>150030500.0</td>\n",
              "      <td>86.188004</td>\n",
              "    </tr>\n",
              "    <tr>\n",
              "      <th>2020-01-01</th>\n",
              "      <td>193.798004</td>\n",
              "      <td>180.203995</td>\n",
              "      <td>184.699997</td>\n",
              "      <td>183.483994</td>\n",
              "      <td>304694000.0</td>\n",
              "      <td>183.483994</td>\n",
              "    </tr>\n",
              "    <tr>\n",
              "      <th>2020-04-01</th>\n",
              "      <td>217.537994</td>\n",
              "      <td>200.746002</td>\n",
              "      <td>202.556000</td>\n",
              "      <td>215.962006</td>\n",
              "      <td>162659000.0</td>\n",
              "      <td>215.962006</td>\n",
              "    </tr>\n",
              "    <tr>\n",
              "      <th>2020-07-01</th>\n",
              "      <td>502.489990</td>\n",
              "      <td>470.510010</td>\n",
              "      <td>502.140015</td>\n",
              "      <td>498.320007</td>\n",
              "      <td>194927000.0</td>\n",
              "      <td>498.320007</td>\n",
              "    </tr>\n",
              "    <tr>\n",
              "      <th>2020-10-01</th>\n",
              "      <td>718.719971</td>\n",
              "      <td>691.119995</td>\n",
              "      <td>699.989990</td>\n",
              "      <td>705.669983</td>\n",
              "      <td>222126200.0</td>\n",
              "      <td>705.669983</td>\n",
              "    </tr>\n",
              "    <tr>\n",
              "      <th>2021-01-01</th>\n",
              "      <td>900.400024</td>\n",
              "      <td>871.599976</td>\n",
              "      <td>891.380005</td>\n",
              "      <td>883.090027</td>\n",
              "      <td>89396500.0</td>\n",
              "      <td>883.090027</td>\n",
              "    </tr>\n",
              "    <tr>\n",
              "      <th>2021-04-01</th>\n",
              "      <td>780.789978</td>\n",
              "      <td>732.609985</td>\n",
              "      <td>770.700012</td>\n",
              "      <td>762.320007</td>\n",
              "      <td>49017400.0</td>\n",
              "      <td>762.320007</td>\n",
              "    </tr>\n",
              "    <tr>\n",
              "      <th>2021-07-01</th>\n",
              "      <td>799.000000</td>\n",
              "      <td>775.000000</td>\n",
              "      <td>787.200012</td>\n",
              "      <td>791.359985</td>\n",
              "      <td>33615800.0</td>\n",
              "      <td>791.359985</td>\n",
              "    </tr>\n",
              "    <tr>\n",
              "      <th>2021-10-01</th>\n",
              "      <td>1243.489990</td>\n",
              "      <td>1217.000000</td>\n",
              "      <td>1234.410034</td>\n",
              "      <td>1229.910034</td>\n",
              "      <td>62852100.0</td>\n",
              "      <td>1229.910034</td>\n",
              "    </tr>\n",
              "    <tr>\n",
              "      <th>2022-01-01</th>\n",
              "      <td>1208.000000</td>\n",
              "      <td>1136.040039</td>\n",
              "      <td>1189.550049</td>\n",
              "      <td>1199.780029</td>\n",
              "      <td>50521900.0</td>\n",
              "      <td>1199.780029</td>\n",
              "    </tr>\n",
              "    <tr>\n",
              "      <th>2022-04-01</th>\n",
              "      <td>1152.869995</td>\n",
              "      <td>1087.300049</td>\n",
              "      <td>1136.300049</td>\n",
              "      <td>1145.449951</td>\n",
              "      <td>48324400.0</td>\n",
              "      <td>1145.449951</td>\n",
              "    </tr>\n",
              "    <tr>\n",
              "      <th>2022-07-01</th>\n",
              "      <td>764.940002</td>\n",
              "      <td>723.479980</td>\n",
              "      <td>756.309998</td>\n",
              "      <td>752.289978</td>\n",
              "      <td>33343700.0</td>\n",
              "      <td>752.289978</td>\n",
              "    </tr>\n",
              "  </tbody>\n",
              "</table>\n",
              "</div>\n",
              "      <button class=\"colab-df-convert\" onclick=\"convertToInteractive('df-04217292-b6e1-40b0-80b1-3be79faf7b1e')\"\n",
              "              title=\"Convert this dataframe to an interactive table.\"\n",
              "              style=\"display:none;\">\n",
              "        \n",
              "  <svg xmlns=\"http://www.w3.org/2000/svg\" height=\"24px\"viewBox=\"0 0 24 24\"\n",
              "       width=\"24px\">\n",
              "    <path d=\"M0 0h24v24H0V0z\" fill=\"none\"/>\n",
              "    <path d=\"M18.56 5.44l.94 2.06.94-2.06 2.06-.94-2.06-.94-.94-2.06-.94 2.06-2.06.94zm-11 1L8.5 8.5l.94-2.06 2.06-.94-2.06-.94L8.5 2.5l-.94 2.06-2.06.94zm10 10l.94 2.06.94-2.06 2.06-.94-2.06-.94-.94-2.06-.94 2.06-2.06.94z\"/><path d=\"M17.41 7.96l-1.37-1.37c-.4-.4-.92-.59-1.43-.59-.52 0-1.04.2-1.43.59L10.3 9.45l-7.72 7.72c-.78.78-.78 2.05 0 2.83L4 21.41c.39.39.9.59 1.41.59.51 0 1.02-.2 1.41-.59l7.78-7.78 2.81-2.81c.8-.78.8-2.07 0-2.86zM5.41 20L4 18.59l7.72-7.72 1.47 1.35L5.41 20z\"/>\n",
              "  </svg>\n",
              "      </button>\n",
              "      \n",
              "  <style>\n",
              "    .colab-df-container {\n",
              "      display:flex;\n",
              "      flex-wrap:wrap;\n",
              "      gap: 12px;\n",
              "    }\n",
              "\n",
              "    .colab-df-convert {\n",
              "      background-color: #E8F0FE;\n",
              "      border: none;\n",
              "      border-radius: 50%;\n",
              "      cursor: pointer;\n",
              "      display: none;\n",
              "      fill: #1967D2;\n",
              "      height: 32px;\n",
              "      padding: 0 0 0 0;\n",
              "      width: 32px;\n",
              "    }\n",
              "\n",
              "    .colab-df-convert:hover {\n",
              "      background-color: #E2EBFA;\n",
              "      box-shadow: 0px 1px 2px rgba(60, 64, 67, 0.3), 0px 1px 3px 1px rgba(60, 64, 67, 0.15);\n",
              "      fill: #174EA6;\n",
              "    }\n",
              "\n",
              "    [theme=dark] .colab-df-convert {\n",
              "      background-color: #3B4455;\n",
              "      fill: #D2E3FC;\n",
              "    }\n",
              "\n",
              "    [theme=dark] .colab-df-convert:hover {\n",
              "      background-color: #434B5C;\n",
              "      box-shadow: 0px 1px 3px 1px rgba(0, 0, 0, 0.15);\n",
              "      filter: drop-shadow(0px 1px 2px rgba(0, 0, 0, 0.3));\n",
              "      fill: #FFFFFF;\n",
              "    }\n",
              "  </style>\n",
              "\n",
              "      <script>\n",
              "        const buttonEl =\n",
              "          document.querySelector('#df-04217292-b6e1-40b0-80b1-3be79faf7b1e button.colab-df-convert');\n",
              "        buttonEl.style.display =\n",
              "          google.colab.kernel.accessAllowed ? 'block' : 'none';\n",
              "\n",
              "        async function convertToInteractive(key) {\n",
              "          const element = document.querySelector('#df-04217292-b6e1-40b0-80b1-3be79faf7b1e');\n",
              "          const dataTable =\n",
              "            await google.colab.kernel.invokeFunction('convertToInteractive',\n",
              "                                                     [key], {});\n",
              "          if (!dataTable) return;\n",
              "\n",
              "          const docLinkHtml = 'Like what you see? Visit the ' +\n",
              "            '<a target=\"_blank\" href=https://colab.research.google.com/notebooks/data_table.ipynb>data table notebook</a>'\n",
              "            + ' to learn more about interactive tables.';\n",
              "          element.innerHTML = '';\n",
              "          dataTable['output_type'] = 'display_data';\n",
              "          await google.colab.output.renderOutput(dataTable, element);\n",
              "          const docLink = document.createElement('div');\n",
              "          docLink.innerHTML = docLinkHtml;\n",
              "          element.appendChild(docLink);\n",
              "        }\n",
              "      </script>\n",
              "    </div>\n",
              "  </div>\n",
              "  "
            ]
          },
          "metadata": {},
          "execution_count": 23
        }
      ]
    },
    {
      "cell_type": "code",
      "source": [
        "df_tesla.resample(rule='QS').max()['High'].plot()"
      ],
      "metadata": {
        "colab": {
          "base_uri": "https://localhost:8080/",
          "height": 297
        },
        "id": "QGaLZ-xqVE-_",
        "outputId": "a26a9cb3-bfe3-4981-b871-10c3ef4d70d6"
      },
      "execution_count": 24,
      "outputs": [
        {
          "output_type": "execute_result",
          "data": {
            "text/plain": [
              "<matplotlib.axes._subplots.AxesSubplot at 0x7f35c7eec990>"
            ]
          },
          "metadata": {},
          "execution_count": 24
        },
        {
          "output_type": "display_data",
          "data": {
            "text/plain": [
              "<Figure size 432x288 with 1 Axes>"
            ],
            "image/png": "[encoded data removed]"
          },
          "metadata": {
            "needs_background": "light"
          }
        }
      ]
    },
    {
      "cell_type": "code",
      "source": [
        "df_tesla['Open:30 days rolling']=df_tesla['Open'].rolling(30).mean()"
      ],
      "metadata": {
        "id": "Pgi5JisoVFEv"
      },
      "execution_count": 25,
      "outputs": []
    },
    {
      "cell_type": "code",
      "source": [
        "df_tesla[['Open','Open:30 days rolling']].plot(figsize=(12,5))"
      ],
      "metadata": {
        "colab": {
          "base_uri": "https://localhost:8080/",
          "height": 336
        },
        "id": "BIuCEjYyVFHs",
        "outputId": "ff7f0d19-c2f6-4ea6-a2e9-349d5c3e0dfb"
      },
      "execution_count": 26,
      "outputs": [
        {
          "output_type": "execute_result",
          "data": {
            "text/plain": [
              "<matplotlib.axes._subplots.AxesSubplot at 0x7f35c7e0c610>"
            ]
          },
          "metadata": {},
          "execution_count": 26
        },
        {
          "output_type": "display_data",
          "data": {
            "text/plain": [
              "<Figure size 864x360 with 1 Axes>"
            ],
            "image/png": "[encoded data removed]"
          },
          "metadata": {
            "needs_background": "light"
          }
        }
      ]
    },
    {
      "cell_type": "code",
      "source": [
        ""
      ],
      "metadata": {
        "id": "utCXwABoVFKo"
      },
      "execution_count": null,
      "outputs": []
    },
    {
      "cell_type": "code",
      "source": [
        ""
      ],
      "metadata": {
        "id": "HWq7f1IyVFNK"
      },
      "execution_count": null,
      "outputs": []
    },
    {
      "cell_type": "code",
      "source": [
        ""
      ],
      "metadata": {
        "id": "2gaesr9oVFYp"
      },
      "execution_count": null,
      "outputs": []
    },
    {
      "cell_type": "code",
      "source": [
        ""
      ],
      "metadata": {
        "id": "eKUsGZEcVFb7"
      },
      "execution_count": null,
      "outputs": []
    },
    {
      "cell_type": "code",
      "source": [
        ""
      ],
      "metadata": {
        "id": "thcO_tS5VFec"
      },
      "execution_count": null,
      "outputs": []
    }
  ]
}